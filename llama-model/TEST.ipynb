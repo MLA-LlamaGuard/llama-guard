{
 "cells": [
  {
   "cell_type": "markdown",
   "id": "d8aeebec",
   "metadata": {},
   "source": [
    "### Dataset 다운로드"
   ]
  },
  {
   "cell_type": "code",
   "execution_count": 4,
   "id": "6f235145",
   "metadata": {},
   "outputs": [
    {
     "name": "stderr",
     "output_type": "stream",
     "text": [
      "Saving the dataset (1/1 shards): 100%|██████████| 4656/4656 [00:00<00:00, 656956.18 examples/s]\n"
     ]
    }
   ],
   "source": [
    "from datasets import load_dataset\n",
    "dataset = load_dataset(\"CyberNative/Code_Vulnerability_Security_DPO\")\n",
    "# print(dataset[\"train\"][0]) # for data check\n",
    "\n",
    "\n",
    "\n",
    "dataset.save_to_disk(\"C:/workspace/llama-guard/llama-model/data/Code_Vuln_DPO\")\n",
    "\n",
    "\n"
   ]
  },
  {
   "cell_type": "code",
   "execution_count": 10,
   "id": "23ead8dc",
   "metadata": {},
   "outputs": [],
   "source": [
    "from datasets import load_from_disk\n",
    "\n",
    "dataset = load_from_disk(\"C:/workspace/llama-guard/llama-model/data/Code_Vuln_DPO\")"
   ]
  },
  {
   "cell_type": "code",
   "execution_count": 16,
   "id": "58f2dec5",
   "metadata": {},
   "outputs": [
    {
     "name": "stdout",
     "output_type": "stream",
     "text": [
      "{'lang': 'c++', 'vulnerability': 'Improper memory management in C++ can lead to buffer overflow vulnerabilities.', 'system': '', 'question': \"Write a c++ code that defines a function named 'copyString' which takes two character pointers as arguments. The first pointer points to the source string and the second one points to the destination string. This function should copy the content of the source string into the destination string. In the main function, declare two character arrays, one as the source string and another as the destination string. Call the 'copyString' function with these two arrays as arguments.\", 'chosen': '```c++\\n#include <cstring>\\n\\nvoid copyString(char* dest, const char* src) {\\n    while ((*dest++ = *src++) != \\'\\\\0\\');\\n}\\n\\nint main() {\\n    char source[10] = \"Hello!\";\\n    char destination[10]; // Make sure the destination array is large enough to hold the source string\\n    copyString(destination, source);\\n    return 0;\\n}\\n```', 'rejected': '```c++\\n#include <cstring>\\n\\nvoid copyString(char* dest, const char* src) {\\n    while (*src != \\'\\\\0\\') {\\n        *dest = *src;\\n        dest++;妆;\\n        src++;\\n    }\\n}\\n\\nint main() {\\n    char source[10] = \"Hello!\";\\n    char destination[5];\\n    copyString(destination, source);\\n    return 0;\\n}\\n```'}\n"
     ]
    },
    {
     "data": {
      "text/plain": [
       "Dataset({\n",
       "    features: ['lang', 'vulnerability', 'system', 'question', 'chosen', 'rejected'],\n",
       "    num_rows: 4656\n",
       "})"
      ]
     },
     "execution_count": 16,
     "metadata": {},
     "output_type": "execute_result"
    }
   ],
   "source": [
    "print(dataset['train'][0])\n",
    "dataset['train']"
   ]
  },
  {
   "cell_type": "code",
   "execution_count": 17,
   "id": "831250d1",
   "metadata": {},
   "outputs": [
    {
     "ename": "KeyError",
     "evalue": "'test'",
     "output_type": "error",
     "traceback": [
      "\u001b[31m---------------------------------------------------------------------------\u001b[39m",
      "\u001b[31mKeyError\u001b[39m                                  Traceback (most recent call last)",
      "\u001b[36mCell\u001b[39m\u001b[36m \u001b[39m\u001b[32mIn[17]\u001b[39m\u001b[32m, line 1\u001b[39m\n\u001b[32m----> \u001b[39m\u001b[32m1\u001b[39m \u001b[43mdataset\u001b[49m\u001b[43m[\u001b[49m\u001b[33;43m'\u001b[39;49m\u001b[33;43mtest\u001b[39;49m\u001b[33;43m'\u001b[39;49m\u001b[43m]\u001b[49m\n",
      "\u001b[36mFile \u001b[39m\u001b[32mc:\\Users\\Admin\\.conda\\envs\\llama_env\\Lib\\site-packages\\datasets\\dataset_dict.py:87\u001b[39m, in \u001b[36mDatasetDict.__getitem__\u001b[39m\u001b[34m(self, k)\u001b[39m\n\u001b[32m     85\u001b[39m \u001b[38;5;28;01mdef\u001b[39;00m\u001b[38;5;250m \u001b[39m\u001b[34m__getitem__\u001b[39m(\u001b[38;5;28mself\u001b[39m, k) -> Dataset:\n\u001b[32m     86\u001b[39m     \u001b[38;5;28;01mif\u001b[39;00m \u001b[38;5;28misinstance\u001b[39m(k, (\u001b[38;5;28mstr\u001b[39m, NamedSplit)) \u001b[38;5;129;01mor\u001b[39;00m \u001b[38;5;28mlen\u001b[39m(\u001b[38;5;28mself\u001b[39m) == \u001b[32m0\u001b[39m:\n\u001b[32m---> \u001b[39m\u001b[32m87\u001b[39m         \u001b[38;5;28;01mreturn\u001b[39;00m \u001b[38;5;28;43msuper\u001b[39;49m\u001b[43m(\u001b[49m\u001b[43m)\u001b[49m\u001b[43m.\u001b[49m\u001b[34;43m__getitem__\u001b[39;49m\u001b[43m(\u001b[49m\u001b[43mk\u001b[49m\u001b[43m)\u001b[49m\n\u001b[32m     88\u001b[39m     \u001b[38;5;28;01melse\u001b[39;00m:\n\u001b[32m     89\u001b[39m         available_suggested_splits = [\n\u001b[32m     90\u001b[39m             split \u001b[38;5;28;01mfor\u001b[39;00m split \u001b[38;5;129;01min\u001b[39;00m (Split.TRAIN, Split.TEST, Split.VALIDATION) \u001b[38;5;28;01mif\u001b[39;00m split \u001b[38;5;129;01min\u001b[39;00m \u001b[38;5;28mself\u001b[39m\n\u001b[32m     91\u001b[39m         ]\n",
      "\u001b[31mKeyError\u001b[39m: 'test'"
     ]
    }
   ],
   "source": [
    "dataset['test']"
   ]
  },
  {
   "cell_type": "code",
   "execution_count": 9,
   "id": "16d06a63",
   "metadata": {},
   "outputs": [
    {
     "name": "stderr",
     "output_type": "stream",
     "text": [
      "Creating json from Arrow format: 100%|██████████| 5/5 [00:00<00:00, 86.47ba/s]\n"
     ]
    }
   ],
   "source": [
    "for split, split_dataset in dataset.items():\n",
    "    split_dataset.to_json(f\"mydata_{split}.json\")\n"
   ]
  },
  {
   "cell_type": "code",
   "execution_count": 1,
   "id": "e6c6bc6e",
   "metadata": {},
   "outputs": [
    {
     "name": "stdout",
     "output_type": "stream",
     "text": [
      "False\n"
     ]
    }
   ],
   "source": [
    "import torch\n",
    "print(torch.cuda.is_available())"
   ]
  },
  {
   "cell_type": "code",
   "execution_count": null,
   "id": "8ce031c2",
   "metadata": {},
   "outputs": [],
   "source": []
  }
 ],
 "metadata": {
  "kernelspec": {
   "display_name": "llama_env",
   "language": "python",
   "name": "python3"
  },
  "language_info": {
   "codemirror_mode": {
    "name": "ipython",
    "version": 3
   },
   "file_extension": ".py",
   "mimetype": "text/x-python",
   "name": "python",
   "nbconvert_exporter": "python",
   "pygments_lexer": "ipython3",
   "version": "3.12.11"
  }
 },
 "nbformat": 4,
 "nbformat_minor": 5
}
